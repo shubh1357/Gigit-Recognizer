{
  "nbformat": 4,
  "nbformat_minor": 0,
  "metadata": {
    "colab": {
      "name": "digitrec.ipynb",
      "version": "0.3.2",
      "provenance": [],
      "include_colab_link": true
    },
    "kernelspec": {
      "name": "python3",
      "display_name": "Python 3"
    }
  },
  "cells": [
    {
      "cell_type": "markdown",
      "metadata": {
        "id": "view-in-github",
        "colab_type": "text"
      },
      "source": [
        "<a href=\"https://colab.research.google.com/github/shubh1357/Gigit-Recognizer/blob/master/digitrec.ipynb\" target=\"_parent\"><img src=\"https://colab.research.google.com/assets/colab-badge.svg\" alt=\"Open In Colab\"/></a>"
      ]
    },
    {
      "cell_type": "code",
      "metadata": {
        "id": "Vil2qGlDnCi0",
        "colab_type": "code",
        "outputId": "ed6b2862-e07e-42ac-f32b-3fee66fe6a4a",
        "colab": {
          "base_uri": "https://localhost:8080/",
          "height": 124
        }
      },
      "source": [
        "from google.colab import drive\n",
        "drive.mount('/content/drive')"
      ],
      "execution_count": 0,
      "outputs": [
        {
          "output_type": "stream",
          "text": [
            "Go to this URL in a browser: https://accounts.google.com/o/oauth2/auth?client_id=947318989803-6bn6qk8qdgf4n4g3pfee6491hc0brc4i.apps.googleusercontent.com&redirect_uri=urn%3Aietf%3Awg%3Aoauth%3A2.0%3Aoob&scope=email%20https%3A%2F%2Fwww.googleapis.com%2Fauth%2Fdocs.test%20https%3A%2F%2Fwww.googleapis.com%2Fauth%2Fdrive%20https%3A%2F%2Fwww.googleapis.com%2Fauth%2Fdrive.photos.readonly%20https%3A%2F%2Fwww.googleapis.com%2Fauth%2Fpeopleapi.readonly&response_type=code\n",
            "\n",
            "Enter your authorization code:\n",
            "··········\n",
            "Mounted at /content/drive\n"
          ],
          "name": "stdout"
        }
      ]
    },
    {
      "cell_type": "code",
      "metadata": {
        "id": "sGf8xp3Un5pw",
        "colab_type": "code",
        "outputId": "128e445b-0361-4610-90a7-c3cd6e837852",
        "colab": {
          "base_uri": "https://localhost:8080/",
          "height": 330
        }
      },
      "source": [
        "!pip install keras\n",
        "from keras.datasets import mnist\n",
        "mnist.load_data()\n",
        "\n",
        "import numpy as np\n",
        "import matplotlib\n",
        "matplotlib.use('agg')\n",
        "import matplotlib.pyplot as plt\n",
        "\n",
        "import os\n",
        "os.environ['TF_CPP_LOG_LEVEL']='3'\n",
        "\n",
        "#keras imports for the dataset and building our neural network\n",
        "\n",
        "from keras.models import Sequential, load_model\n",
        "from keras.layers.core import Dense, Dropout, Activation\n",
        "from keras.utils import np_utils\n",
        "\n",
        "#Now load dataset using following function which will split the data into train and test sets\n",
        "(X_train, y_train),(X_test, y_test)=mnist.load_data()\n",
        "\n",
        "#inspecting image\n",
        "fig=plt.figure()\n",
        "for i in range(9):\n",
        "  plt.subplot(3,3,i+1)\n",
        "  plt.tight_layout()\n",
        "  plt.imshow(X_train[i],cmap='gray',interpolation='none')\n",
        "  plt.title(\"Digit:{}\".format(y_train[i]))\n",
        "  plt.xticks([])\n",
        "  plt.yticks([])\n",
        "  \n",
        "fig\n",
        "\n",
        "\n",
        "# unrooling height x width pixel format into one big vector\n",
        "fig=plt.figure()\n",
        "plt.subplot(2,1,1)\n",
        "plt.imshow(X_train[0],cmap='gray',interpolation='none')\n",
        "plt.title(\"Digit:{}\".format(y_train[0]))\n",
        "plt.xticks([])\n",
        "plt.yticks([])\n",
        "plt.subplot(2,1,2)\n",
        "plt.hist(X_train[0].reshape(784))\n",
        "plt.title(\"Pixel Value Distribution\")\n",
        "fig\n",
        "\n",
        "\n",
        "# normalizing input data for speeding up the training process, it can also reduce the chances of getting stuck in local optima, since we r using stochastic\n",
        "# gradient descent to find the optimal weights for the network.\n",
        "# printing shapes before reshaping and normalizing\n",
        "print(\"X_train_shape\", X_train.shape)\n",
        "print(\"y_train_shape\", y_train.shape)\n",
        "print(\"X_test_shape\", X_test.shape)\n",
        "print(\"y_test_shape\", y_test.shape)\n",
        "\n",
        "#building the input vector from the 28x28 pixels\n",
        "\n",
        "X_train=X_train.reshape(60000,784)\n",
        "X_test=X_test.reshape(10000,784)\n",
        "X_train=X_train.astype('float32')\n",
        "X_test=X_test.astype('float32')\n",
        "\n",
        "#normalize the data\n",
        "\n",
        "X_train /=255\n",
        "X_test /=255\n",
        "\n",
        "# print the final input shape\n",
        "\n",
        "print(\"Train matrix shape\", X_train.shape)\n",
        "print(\"Test matrix shape\", X_test.shape)\n",
        "\n",
        "\n",
        "# so far the truth (y in ml language) ew will use for trainnig stills hold integers i.e. 0 to 9\n",
        "print(np.unique(y_train, return_counts=True))\n",
        "\n",
        "\n",
        "# Let's encode out categories- digits from 0 to 9 using \"one-hot encoding\". The result will be a vector with a length\n",
        "# equal to the number of categories. The vector is all zero except in position for the respective category.\n",
        "\n",
        "#one-hot coding\n",
        "\n",
        "n_classes=10\n",
        "print(\"Shape before one-hot coding:\",y_train.shape)\n",
        "Y_train=np_utils.to_categorical(y_train,n_classes)\n",
        "Y_test=np_utils.to_categorical(y_test,n_classes)\n",
        "print(\"Shape after one-hot encoding\", Y_train.shape)\n",
        "\n",
        "\n",
        "# Build the network\n",
        "# building a linear stack of layer with the sequential model\n",
        "\n",
        "model=Sequential()\n",
        "model.add(Dense(512,input_shape=(784,)))\n",
        "model.add(Activation('relu'))\n",
        "model.add(Dropout(0.2))\n",
        "model.add(Dense(512))\n",
        "model.add(Activation('relu'))\n",
        "model.add(Dropout(0.2))\n",
        "\n",
        "model.add(Dense(10))\n",
        "model.add(Activation('softmax'))\n",
        "\n",
        "\n",
        "# compiling and training the model\n",
        "#compling sequencial model\n",
        "\n",
        "model.compile(loss='categorical_crossentropy',metrics=['accuracy'],optimizer='adam')\n",
        "\n"
      ],
      "execution_count": 0,
      "outputs": [
        {
          "output_type": "stream",
          "text": [
            "Requirement already satisfied: keras in /usr/local/lib/python3.6/dist-packages (2.2.4)\n",
            "Requirement already satisfied: keras-applications>=1.0.6 in /usr/local/lib/python3.6/dist-packages (from keras) (1.0.6)\n",
            "Requirement already satisfied: h5py in /usr/local/lib/python3.6/dist-packages (from keras) (2.8.0)\n",
            "Requirement already satisfied: numpy>=1.9.1 in /usr/local/lib/python3.6/dist-packages (from keras) (1.14.6)\n",
            "Requirement already satisfied: six>=1.9.0 in /usr/local/lib/python3.6/dist-packages (from keras) (1.11.0)\n",
            "Requirement already satisfied: pyyaml in /usr/local/lib/python3.6/dist-packages (from keras) (3.13)\n",
            "Requirement already satisfied: scipy>=0.14 in /usr/local/lib/python3.6/dist-packages (from keras) (1.1.0)\n",
            "Requirement already satisfied: keras-preprocessing>=1.0.5 in /usr/local/lib/python3.6/dist-packages (from keras) (1.0.5)\n"
          ],
          "name": "stdout"
        },
        {
          "output_type": "stream",
          "text": [
            "Using TensorFlow backend.\n"
          ],
          "name": "stderr"
        },
        {
          "output_type": "stream",
          "text": [
            "X_train_shape (60000, 28, 28)\n",
            "y_train_shape (60000,)\n",
            "X_test_shape (10000, 28, 28)\n",
            "y_test_shape (10000,)\n",
            "Train matrix shape (60000, 784)\n",
            "Test matrix shape (10000, 784)\n",
            "(array([0, 1, 2, 3, 4, 5, 6, 7, 8, 9], dtype=uint8), array([5923, 6742, 5958, 6131, 5842, 5421, 5918, 6265, 5851, 5949]))\n",
            "Shape before one-hot coding: (60000,)\n",
            "Shape after one-hot encoding (60000, 10)\n"
          ],
          "name": "stdout"
        }
      ]
    },
    {
      "cell_type": "code",
      "metadata": {
        "id": "H9E72vuPoGH2",
        "colab_type": "code",
        "outputId": "5418cc1f-ca8b-4ebe-86c2-3499fe20be91",
        "colab": {
          "base_uri": "https://localhost:8080/",
          "height": 1130
        }
      },
      "source": [
        "#we can now start the training processand saving matrics\n",
        "\n",
        "history=model.fit(X_train,Y_train,batch_size=128,epochs=20,verbose=2,validation_data=(X_test,Y_test))\n",
        "\n",
        "#saving the model\n",
        "\n",
        "save_dir=\"/content/drive/My Drive/AI/\"\n",
        "model_name ='keras_mnist.h5'\n",
        "model_path=os.path.join(save_dir,model_name)\n",
        "model.save(model_path)\n",
        "print('Saved trained model as %s'%model_path)\n",
        "\n",
        "#plotting the matrics\n",
        "\n",
        "fig=plt.figure()\n",
        "plt.subplot(2,1,1)\n",
        "plt.plot(history.history['acc'])\n",
        "plt.title('model accuracy')\n",
        "plt.ylabel('accuracy')\n",
        "plt.xlabel('epochs')\n",
        "plt.legend(['train','test'],loc='lower right')\n",
        "\n",
        "plt.subplot(2,1,2)\n",
        "plt.plot(history.history['loss'])\n",
        "plt.plot(history.history['val_loss'])\n",
        "plt.title('model loss')\n",
        "plt.ylabel('loss')\n",
        "plt.xlabel('epochs')\n",
        "plt.legend(['train','test'],loc='upper right')\n",
        "plt.tight_layout()\n",
        "fig"
      ],
      "execution_count": 0,
      "outputs": [
        {
          "output_type": "stream",
          "text": [
            "Train on 60000 samples, validate on 10000 samples\n",
            "Epoch 1/20\n",
            " - 9s - loss: 0.2514 - acc: 0.9250 - val_loss: 0.1101 - val_acc: 0.9657\n",
            "Epoch 2/20\n",
            " - 9s - loss: 0.1015 - acc: 0.9694 - val_loss: 0.0823 - val_acc: 0.9740\n",
            "Epoch 3/20\n",
            " - 9s - loss: 0.0727 - acc: 0.9778 - val_loss: 0.0781 - val_acc: 0.9766\n",
            "Epoch 4/20\n",
            " - 9s - loss: 0.0562 - acc: 0.9821 - val_loss: 0.0726 - val_acc: 0.9787\n",
            "Epoch 5/20\n",
            " - 9s - loss: 0.0465 - acc: 0.9850 - val_loss: 0.0729 - val_acc: 0.9776\n",
            "Epoch 6/20\n",
            " - 9s - loss: 0.0392 - acc: 0.9871 - val_loss: 0.0645 - val_acc: 0.9800\n",
            "Epoch 7/20\n",
            " - 9s - loss: 0.0334 - acc: 0.9892 - val_loss: 0.0646 - val_acc: 0.9815\n",
            "Epoch 8/20\n",
            " - 9s - loss: 0.0323 - acc: 0.9892 - val_loss: 0.0640 - val_acc: 0.9822\n",
            "Epoch 9/20\n",
            " - 9s - loss: 0.0306 - acc: 0.9897 - val_loss: 0.0691 - val_acc: 0.9808\n",
            "Epoch 10/20\n",
            " - 9s - loss: 0.0254 - acc: 0.9914 - val_loss: 0.0706 - val_acc: 0.9823\n",
            "Epoch 11/20\n",
            " - 9s - loss: 0.0235 - acc: 0.9921 - val_loss: 0.0730 - val_acc: 0.9803\n",
            "Epoch 12/20\n",
            " - 9s - loss: 0.0215 - acc: 0.9924 - val_loss: 0.0602 - val_acc: 0.9846\n",
            "Epoch 13/20\n",
            " - 9s - loss: 0.0207 - acc: 0.9933 - val_loss: 0.0716 - val_acc: 0.9809\n",
            "Epoch 14/20\n",
            " - 9s - loss: 0.0189 - acc: 0.9936 - val_loss: 0.0739 - val_acc: 0.9828\n",
            "Epoch 15/20\n",
            " - 9s - loss: 0.0218 - acc: 0.9931 - val_loss: 0.0694 - val_acc: 0.9826\n",
            "Epoch 16/20\n",
            " - 9s - loss: 0.0167 - acc: 0.9947 - val_loss: 0.0794 - val_acc: 0.9825\n",
            "Epoch 17/20\n",
            " - 9s - loss: 0.0165 - acc: 0.9944 - val_loss: 0.0790 - val_acc: 0.9815\n",
            "Epoch 18/20\n",
            " - 9s - loss: 0.0167 - acc: 0.9948 - val_loss: 0.0783 - val_acc: 0.9823\n",
            "Epoch 19/20\n",
            " - 9s - loss: 0.0182 - acc: 0.9944 - val_loss: 0.0697 - val_acc: 0.9856\n",
            "Epoch 20/20\n",
            " - 9s - loss: 0.0152 - acc: 0.9952 - val_loss: 0.0679 - val_acc: 0.9848\n",
            "Saved trained model as /content/drive/My Drive/AI/keras_mnist.h5\n"
          ],
          "name": "stdout"
        },
        {
          "output_type": "execute_result",
          "data": {
            "image/png": "[encoded data removed]",
            "text/plain": [
              "<Figure size 576x396 with 2 Axes>"
            ]
          },
          "metadata": {
            "tags": []
          },
          "execution_count": 3
        }
      ]
    },
    {
      "cell_type": "code",
      "metadata": {
        "id": "hhlZXLDzpn8o",
        "colab_type": "code",
        "outputId": "fdc72e7e-9a41-41fb-85c1-4aeaf1e749f8",
        "colab": {
          "base_uri": "https://localhost:8080/",
          "height": 52
        }
      },
      "source": [
        "mnist_model=load_model(\"/content/drive/My Drive/AI/keras_mnist.h5\")\n",
        "loss_and_metrics=mnist_model.evaluate(X_test,Y_test,verbose=2)\n",
        "\n",
        "print(\"Test loss\",loss_and_metrics[0])\n",
        "print(\"Test Accuracy\",loss_and_metrics[1])"
      ],
      "execution_count": 0,
      "outputs": [
        {
          "output_type": "stream",
          "text": [
            "Test loss 0.06791062239217754\n",
            "Test Accuracy 0.9848\n"
          ],
          "name": "stdout"
        }
      ]
    },
    {
      "cell_type": "code",
      "metadata": {
        "id": "h5ziwQlhpn_C",
        "colab_type": "code",
        "outputId": "6567e7af-26df-4a6f-8d5f-eb023fe3629c",
        "colab": {
          "base_uri": "https://localhost:8080/",
          "height": 859
        }
      },
      "source": [
        "#load the model and create predictions\n",
        "\n",
        "mnist_model=load_model(\"/content/drive/My Drive/AI/keras_mnist.h5\")\n",
        "predicted_classes=mnist_model.predict_classes(X_test)\n",
        "\n",
        "#see which are predicted right and which not\n",
        "\n",
        "correct_indices=np.nonzero(predicted_classes==y_test)[0]\n",
        "incorrect_indices=np.nonzero(predicted_classes!=y_test)[0]\n",
        "print()\n",
        "print(len(correct_indices),\"classified correctly\")\n",
        "print(len(incorrect_indices),\"classified incorrect\")\n",
        "\n",
        "#adopt figure size to accomodate 18 plots\n",
        "\n",
        "plt.rcParams['figure.figsize']=(7,14)\n",
        "figure_evaluation=plt.figure()\n",
        "\n",
        "#plot 9 correctly predictions\n",
        "for i,correct in enumerate(correct_indices[:9]):\n",
        "  plt.subplot(6,3,i+1)\n",
        "  plt.imshow(X_test[correct].reshape(28,28),cmap='gray',interpolation='none')\n",
        "  plt.title(\"predicted: {}, Truth:{}\".format(predicted_classes[correct],y_test[correct]))\n",
        "  plt.xticks([])\n",
        "  plt.yticks([])\n",
        "for i,incorrect in enumerate(incorrect_indices[:9]):\n",
        "  plt.subplot(6,3,i+10)\n",
        "  plt.imshow(X_test[incorrect].reshape(28,28),cmap='gray',interpolation='none')\n",
        "  plt.title(\"predicted: {}, Truth: {}\".format(predicted_classes[incorrect],y_test[incorrect]))\n",
        "  plt.xticks([])\n",
        "  plt.yticks([])\n",
        "figure_evaluation"
      ],
      "execution_count": 0,
      "outputs": [
        {
          "output_type": "stream",
          "text": [
            "\n",
            "9848 classified correctly\n",
            "152 classified incorrect\n"
          ],
          "name": "stdout"
        },
        {
          "output_type": "execute_result",
          "data": {
            "image/png": "[encoded data removed]",
            "text/plain": [
              "<Figure size 504x1008 with 18 Axes>"
            ]
          },
          "metadata": {
            "tags": []
          },
          "execution_count": 12
        }
      ]
    },
    {
      "cell_type": "code",
      "metadata": {
        "id": "Bxd70ryYpobu",
        "colab_type": "code",
        "colab": {}
      },
      "source": [
        ""
      ],
      "execution_count": 0,
      "outputs": []
    },
    {
      "cell_type": "code",
      "metadata": {
        "id": "eG01X8j9zhAq",
        "colab_type": "code",
        "colab": {}
      },
      "source": [
        ""
      ],
      "execution_count": 0,
      "outputs": []
    },
    {
      "cell_type": "code",
      "metadata": {
        "id": "jooK_yVhzhFU",
        "colab_type": "code",
        "colab": {}
      },
      "source": [
        ""
      ],
      "execution_count": 0,
      "outputs": []
    },
    {
      "cell_type": "code",
      "metadata": {
        "id": "o2r6SvyWzhIY",
        "colab_type": "code",
        "colab": {}
      },
      "source": [
        ""
      ],
      "execution_count": 0,
      "outputs": []
    },
    {
      "cell_type": "code",
      "metadata": {
        "id": "hkv2sawlzhMg",
        "colab_type": "code",
        "colab": {}
      },
      "source": [
        ""
      ],
      "execution_count": 0,
      "outputs": []
    },
    {
      "cell_type": "code",
      "metadata": {
        "id": "PiauyBodzhKu",
        "colab_type": "code",
        "colab": {}
      },
      "source": [
        ""
      ],
      "execution_count": 0,
      "outputs": []
    },
    {
      "cell_type": "code",
      "metadata": {
        "id": "uI0TeEhFzhDg",
        "colab_type": "code",
        "colab": {}
      },
      "source": [
        ""
      ],
      "execution_count": 0,
      "outputs": []
    },
    {
      "cell_type": "code",
      "metadata": {
        "id": "crxZbIi6pohW",
        "colab_type": "code",
        "colab": {}
      },
      "source": [
        ""
      ],
      "execution_count": 0,
      "outputs": []
    },
    {
      "cell_type": "code",
      "metadata": {
        "id": "4QO6LFZipomq",
        "colab_type": "code",
        "colab": {}
      },
      "source": [
        ""
      ],
      "execution_count": 0,
      "outputs": []
    },
    {
      "cell_type": "code",
      "metadata": {
        "id": "Gcjywuzpposo",
        "colab_type": "code",
        "colab": {}
      },
      "source": [
        ""
      ],
      "execution_count": 0,
      "outputs": []
    }
  ]
}